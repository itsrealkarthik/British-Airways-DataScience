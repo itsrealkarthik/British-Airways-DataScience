{
  "cells": [
    {
      "cell_type": "markdown",
      "id": "208ce980",
      "metadata": {
        "id": "208ce980"
      },
      "source": [
        "# Web Scraping and Analysis\n"
      ]
    },
    {
      "cell_type": "markdown",
      "id": "fbd3992e",
      "metadata": {
        "id": "fbd3992e"
      },
      "source": [
        "This Jupyter Notebook is created for the British Airways Virtual Internship Task #1 (Web Scraping and Sentiment Analysis)."
      ]
    },
    {
      "cell_type": "markdown",
      "id": "33716a31",
      "metadata": {
        "id": "33716a31"
      },
      "source": [
        "<h3>Scrape Data from Skytrax Using BeautifulSoup</h3>"
      ]
    },
    {
      "cell_type": "markdown",
      "id": "1b30e577",
      "metadata": {
        "id": "1b30e577"
      },
      "source": [
        "Website URL: https://www.airlinequality.com/airline-reviews/british-airways\n",
        "</br>Python Library : beautifulsoup4 4.12.2\n",
        "\n",
        "pip install beautifulsoup4"
      ]
    },
    {
      "cell_type": "code",
      "execution_count": 1,
      "id": "dd0e20a0",
      "metadata": {
        "id": "dd0e20a0"
      },
      "outputs": [],
      "source": [
        "import pandas as pd\n",
        "import requests\n",
        "from bs4 import BeautifulSoup"
      ]
    },
    {
      "cell_type": "code",
      "execution_count": 2,
      "id": "94c6a71b",
      "metadata": {
        "id": "94c6a71b"
      },
      "outputs": [],
      "source": [
        "url= 'https://www.airlinequality.com/airline-reviews/british-airways'\n",
        "page=350\n",
        "review=[]\n",
        "for i in range(1,page+1):\n",
        "    getResponseURL= f\"{url}/page/{i}\"\n",
        "    responseContent=requests.get(getResponseURL)\n",
        "    \n",
        "    content=responseContent.content\n",
        "    parseContent=BeautifulSoup(content,'html.parser')\n",
        "    for reviews in parseContent.find_all(\"div\",class_=\"text_content\"):\n",
        "        review.append(reviews.get_text())\n",
        "    "
      ]
    },
    {
      "cell_type": "markdown",
      "id": "b943aa4e",
      "metadata": {
        "collapsed": true,
        "id": "b943aa4e"
      },
      "source": [
        "Now, the review list is going to have the set of all reviews. Now we clean it."
      ]
    },
    {
      "cell_type": "code",
      "execution_count": 3,
      "id": "6b33f83d",
      "metadata": {
        "id": "6b33f83d"
      },
      "outputs": [],
      "source": [
        "for i in range(0, len(review)):\n",
        "    split=review[i].split(\"|\")\n",
        "    if len(split)==1:\n",
        "        review[i]=split[0]\n",
        "    else:\n",
        "        review[i]=split[1]"
      ]
    },
    {
      "cell_type": "markdown",
      "id": "80560656",
      "metadata": {
        "id": "80560656"
      },
      "source": [
        "Remove all Special Characters "
      ]
    },
    {
      "cell_type": "code",
      "execution_count": 6,
      "id": "d237dfd3",
      "metadata": {
        "id": "d237dfd3"
      },
      "outputs": [],
      "source": [
        "import re\n",
        "def clean(text):\n",
        "    text=re.sub('[^A-Za-z]+',' ',text)\n",
        "    return text\n",
        "for i in range(0,len(review)):\n",
        "    review[i]=clean(review[i])"
      ]
    },
    {
      "cell_type": "markdown",
      "source": [
        "# VADER Sentiment Analysis"
      ],
      "metadata": {
        "id": "u3VCZkS_GNVb"
      },
      "id": "u3VCZkS_GNVb"
    },
    {
      "cell_type": "markdown",
      "source": [
        "Using VADER to calculate the polarity of each review and mark it as 'positive' or 'negative' or 'neutral'."
      ],
      "metadata": {
        "id": "M0dwVH22GbHB"
      },
      "id": "M0dwVH22GbHB"
    },
    {
      "cell_type": "code",
      "source": [
        "!pip install vaderSentiment"
      ],
      "metadata": {
        "colab": {
          "base_uri": "https://localhost:8080/"
        },
        "id": "2FL9pBVLGz_w",
        "outputId": "2bf45850-0458-4fbe-a67a-a7d6f8a10afd"
      },
      "id": "2FL9pBVLGz_w",
      "execution_count": 10,
      "outputs": [
        {
          "output_type": "stream",
          "name": "stdout",
          "text": [
            "Looking in indexes: https://pypi.org/simple, https://us-python.pkg.dev/colab-wheels/public/simple/\n",
            "Collecting vaderSentiment\n",
            "  Downloading vaderSentiment-3.3.2-py2.py3-none-any.whl (125 kB)\n",
            "\u001b[2K     \u001b[90m━━━━━━━━━━━━━━━━━━━━━━━━━━━━━━━━━━━━━━━\u001b[0m \u001b[32m126.0/126.0 kB\u001b[0m \u001b[31m5.3 MB/s\u001b[0m eta \u001b[36m0:00:00\u001b[0m\n",
            "\u001b[?25hRequirement already satisfied: requests in /usr/local/lib/python3.10/dist-packages (from vaderSentiment) (2.27.1)\n",
            "Requirement already satisfied: urllib3<1.27,>=1.21.1 in /usr/local/lib/python3.10/dist-packages (from requests->vaderSentiment) (1.26.15)\n",
            "Requirement already satisfied: certifi>=2017.4.17 in /usr/local/lib/python3.10/dist-packages (from requests->vaderSentiment) (2022.12.7)\n",
            "Requirement already satisfied: charset-normalizer~=2.0.0 in /usr/local/lib/python3.10/dist-packages (from requests->vaderSentiment) (2.0.12)\n",
            "Requirement already satisfied: idna<4,>=2.5 in /usr/local/lib/python3.10/dist-packages (from requests->vaderSentiment) (3.4)\n",
            "Installing collected packages: vaderSentiment\n",
            "Successfully installed vaderSentiment-3.3.2\n"
          ]
        }
      ]
    },
    {
      "cell_type": "code",
      "source": [
        "frame= pd.DataFrame()\n",
        "frame['Review']=review\n",
        "from vaderSentiment.vaderSentiment import SentimentIntensityAnalyzer\n",
        "analyzer = SentimentIntensityAnalyzer()\n",
        "\n",
        "def calculate_polarity(review):\n",
        "  dict=analyzer.polarity_scores(review)\n",
        "  score=dict['compound']\n",
        "  if score>=0.3:\n",
        "    return 'Positive'\n",
        "  elif score<0:\n",
        "    return 'Negative'\n",
        "  else:\n",
        "    return 'Neutral'\n",
        "  \n",
        "frame['Sentiment']=frame['Review'].apply(calculate_polarity)\n",
        "frame.head()\n"
      ],
      "metadata": {
        "colab": {
          "base_uri": "https://localhost:8080/",
          "height": 206
        },
        "id": "YOqHIf5pG8m-",
        "outputId": "7cef1537-2558-42db-92ac-2e99ecc2465a"
      },
      "id": "YOqHIf5pG8m-",
      "execution_count": 12,
      "outputs": [
        {
          "output_type": "execute_result",
          "data": {
            "text/plain": [
              "                                              Review Sentiment\n",
              "0   The worst experience in all my years of trave...  Negative\n",
              "1   A serious medical problem appeared while I wa...  Negative\n",
              "2   I haven t flown British Airways before and wi...  Negative\n",
              "3   My itinerary was supposed to be Las Vegas Chi...  Negative\n",
              "4   Busy day at LHR and flight full Lounge crowde...  Positive"
            ],
            "text/html": [
              "\n",
              "  <div id=\"df-b64bae39-683e-4013-a1dd-0b9f400049a7\">\n",
              "    <div class=\"colab-df-container\">\n",
              "      <div>\n",
              "<style scoped>\n",
              "    .dataframe tbody tr th:only-of-type {\n",
              "        vertical-align: middle;\n",
              "    }\n",
              "\n",
              "    .dataframe tbody tr th {\n",
              "        vertical-align: top;\n",
              "    }\n",
              "\n",
              "    .dataframe thead th {\n",
              "        text-align: right;\n",
              "    }\n",
              "</style>\n",
              "<table border=\"1\" class=\"dataframe\">\n",
              "  <thead>\n",
              "    <tr style=\"text-align: right;\">\n",
              "      <th></th>\n",
              "      <th>Review</th>\n",
              "      <th>Sentiment</th>\n",
              "    </tr>\n",
              "  </thead>\n",
              "  <tbody>\n",
              "    <tr>\n",
              "      <th>0</th>\n",
              "      <td>The worst experience in all my years of trave...</td>\n",
              "      <td>Negative</td>\n",
              "    </tr>\n",
              "    <tr>\n",
              "      <th>1</th>\n",
              "      <td>A serious medical problem appeared while I wa...</td>\n",
              "      <td>Negative</td>\n",
              "    </tr>\n",
              "    <tr>\n",
              "      <th>2</th>\n",
              "      <td>I haven t flown British Airways before and wi...</td>\n",
              "      <td>Negative</td>\n",
              "    </tr>\n",
              "    <tr>\n",
              "      <th>3</th>\n",
              "      <td>My itinerary was supposed to be Las Vegas Chi...</td>\n",
              "      <td>Negative</td>\n",
              "    </tr>\n",
              "    <tr>\n",
              "      <th>4</th>\n",
              "      <td>Busy day at LHR and flight full Lounge crowde...</td>\n",
              "      <td>Positive</td>\n",
              "    </tr>\n",
              "  </tbody>\n",
              "</table>\n",
              "</div>\n",
              "      <button class=\"colab-df-convert\" onclick=\"convertToInteractive('df-b64bae39-683e-4013-a1dd-0b9f400049a7')\"\n",
              "              title=\"Convert this dataframe to an interactive table.\"\n",
              "              style=\"display:none;\">\n",
              "        \n",
              "  <svg xmlns=\"http://www.w3.org/2000/svg\" height=\"24px\"viewBox=\"0 0 24 24\"\n",
              "       width=\"24px\">\n",
              "    <path d=\"M0 0h24v24H0V0z\" fill=\"none\"/>\n",
              "    <path d=\"M18.56 5.44l.94 2.06.94-2.06 2.06-.94-2.06-.94-.94-2.06-.94 2.06-2.06.94zm-11 1L8.5 8.5l.94-2.06 2.06-.94-2.06-.94L8.5 2.5l-.94 2.06-2.06.94zm10 10l.94 2.06.94-2.06 2.06-.94-2.06-.94-.94-2.06-.94 2.06-2.06.94z\"/><path d=\"M17.41 7.96l-1.37-1.37c-.4-.4-.92-.59-1.43-.59-.52 0-1.04.2-1.43.59L10.3 9.45l-7.72 7.72c-.78.78-.78 2.05 0 2.83L4 21.41c.39.39.9.59 1.41.59.51 0 1.02-.2 1.41-.59l7.78-7.78 2.81-2.81c.8-.78.8-2.07 0-2.86zM5.41 20L4 18.59l7.72-7.72 1.47 1.35L5.41 20z\"/>\n",
              "  </svg>\n",
              "      </button>\n",
              "      \n",
              "  <style>\n",
              "    .colab-df-container {\n",
              "      display:flex;\n",
              "      flex-wrap:wrap;\n",
              "      gap: 12px;\n",
              "    }\n",
              "\n",
              "    .colab-df-convert {\n",
              "      background-color: #E8F0FE;\n",
              "      border: none;\n",
              "      border-radius: 50%;\n",
              "      cursor: pointer;\n",
              "      display: none;\n",
              "      fill: #1967D2;\n",
              "      height: 32px;\n",
              "      padding: 0 0 0 0;\n",
              "      width: 32px;\n",
              "    }\n",
              "\n",
              "    .colab-df-convert:hover {\n",
              "      background-color: #E2EBFA;\n",
              "      box-shadow: 0px 1px 2px rgba(60, 64, 67, 0.3), 0px 1px 3px 1px rgba(60, 64, 67, 0.15);\n",
              "      fill: #174EA6;\n",
              "    }\n",
              "\n",
              "    [theme=dark] .colab-df-convert {\n",
              "      background-color: #3B4455;\n",
              "      fill: #D2E3FC;\n",
              "    }\n",
              "\n",
              "    [theme=dark] .colab-df-convert:hover {\n",
              "      background-color: #434B5C;\n",
              "      box-shadow: 0px 1px 3px 1px rgba(0, 0, 0, 0.15);\n",
              "      filter: drop-shadow(0px 1px 2px rgba(0, 0, 0, 0.3));\n",
              "      fill: #FFFFFF;\n",
              "    }\n",
              "  </style>\n",
              "\n",
              "      <script>\n",
              "        const buttonEl =\n",
              "          document.querySelector('#df-b64bae39-683e-4013-a1dd-0b9f400049a7 button.colab-df-convert');\n",
              "        buttonEl.style.display =\n",
              "          google.colab.kernel.accessAllowed ? 'block' : 'none';\n",
              "\n",
              "        async function convertToInteractive(key) {\n",
              "          const element = document.querySelector('#df-b64bae39-683e-4013-a1dd-0b9f400049a7');\n",
              "          const dataTable =\n",
              "            await google.colab.kernel.invokeFunction('convertToInteractive',\n",
              "                                                     [key], {});\n",
              "          if (!dataTable) return;\n",
              "\n",
              "          const docLinkHtml = 'Like what you see? Visit the ' +\n",
              "            '<a target=\"_blank\" href=https://colab.research.google.com/notebooks/data_table.ipynb>data table notebook</a>'\n",
              "            + ' to learn more about interactive tables.';\n",
              "          element.innerHTML = '';\n",
              "          dataTable['output_type'] = 'display_data';\n",
              "          await google.colab.output.renderOutput(dataTable, element);\n",
              "          const docLink = document.createElement('div');\n",
              "          docLink.innerHTML = docLinkHtml;\n",
              "          element.appendChild(docLink);\n",
              "        }\n",
              "      </script>\n",
              "    </div>\n",
              "  </div>\n",
              "  "
            ]
          },
          "metadata": {},
          "execution_count": 12
        }
      ]
    },
    {
      "cell_type": "code",
      "source": [
        "vader_counts = frame['Sentiment'].value_counts()\n",
        "vader_counts"
      ],
      "metadata": {
        "colab": {
          "base_uri": "https://localhost:8080/"
        },
        "id": "56p3LwO1Ixw4",
        "outputId": "e411f3d4-8775-4c67-e651-a05f965d6c19"
      },
      "id": "56p3LwO1Ixw4",
      "execution_count": 14,
      "outputs": [
        {
          "output_type": "execute_result",
          "data": {
            "text/plain": [
              "Positive    1912\n",
              "Negative    1401\n",
              "Neutral      187\n",
              "Name: Sentiment, dtype: int64"
            ]
          },
          "metadata": {},
          "execution_count": 14
        }
      ]
    },
    {
      "cell_type": "markdown",
      "source": [
        "# **Visualization**"
      ],
      "metadata": {
        "id": "TeKuCzLMKM6t"
      },
      "id": "TeKuCzLMKM6t"
    },
    {
      "cell_type": "code",
      "source": [
        "import matplotlib.pyplot as plt\n",
        "plt.figure(figsize=(15,7))\n",
        "plt.title(\"Reviews Analysis\")\n",
        "plt.pie(vader_counts.values, labels = vader_counts.index,  autopct='%1.1f%%')"
      ],
      "metadata": {
        "colab": {
          "base_uri": "https://localhost:8080/",
          "height": 754
        },
        "id": "3RXt45CyKSmQ",
        "outputId": "bb8529d6-a98d-472f-ac71-801785cc5843"
      },
      "id": "3RXt45CyKSmQ",
      "execution_count": 19,
      "outputs": [
        {
          "output_type": "execute_result",
          "data": {
            "text/plain": [
              "([<matplotlib.patches.Wedge at 0x7f5e70adfdc0>,\n",
              "  <matplotlib.patches.Wedge at 0x7f5e70addb10>,\n",
              "  <matplotlib.patches.Wedge at 0x7f5e6e6bc9d0>],\n",
              " [Text(-0.15938877557396278, 1.0883911145452414, 'Positive'),\n",
              "  Text(-0.02468202369973345, -1.099723055003434, 'Negative'),\n",
              "  Text(1.084540683782821, -0.18377025118307633, 'Neutral')],\n",
              " [Text(-0.0869393321312524, 0.5936678806610407, '54.6%'),\n",
              "  Text(-0.013462922018036427, -0.5998489390927821, '40.0%'),\n",
              "  Text(0.5915676456997205, -0.10023831882713254, '5.3%')])"
            ]
          },
          "metadata": {},
          "execution_count": 19
        },
        {
          "output_type": "display_data",
          "data": {
            "text/plain": [
              "<Figure size 1500x700 with 1 Axes>"
            ],
            "image/png": "[encoded data removed]"
          },
          "metadata": {}
        }
      ]
    }
  ],
  "metadata": {
    "kernelspec": {
      "display_name": "Python 3 (ipykernel)",
      "language": "python",
      "name": "python3"
    },
    "language_info": {
      "codemirror_mode": {
        "name": "ipython",
        "version": 3
      },
      "file_extension": ".py",
      "mimetype": "text/x-python",
      "name": "python",
      "nbconvert_exporter": "python",
      "pygments_lexer": "ipython3",
      "version": "3.9.6"
    },
    "colab": {
      "provenance": [],
      "toc_visible": true
    }
  },
  "nbformat": 4,
  "nbformat_minor": 5
}