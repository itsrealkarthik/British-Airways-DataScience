{
  "nbformat": 4,
  "nbformat_minor": 0,
  "metadata": {
    "colab": {
      "provenance": []
    },
    "kernelspec": {
      "name": "python3",
      "display_name": "Python 3"
    },
    "language_info": {
      "name": "python"
    }
  },
  "cells": [
    {
      "cell_type": "markdown",
      "source": [
        "# **Predicting Customer Buying Behaviour**"
      ],
      "metadata": {
        "id": "028w5AYlYJ-P"
      }
    },
    {
      "cell_type": "markdown",
      "source": [
        "Using Scikit-Learn,<br>\n",
        "Machine Learning algorithms can be used on the data to build a custom model to predict the Customer Behaviour."
      ],
      "metadata": {
        "id": "YARtigJKYY46"
      }
    },
    {
      "cell_type": "markdown",
      "source": [
        "Step 1: Get Data"
      ],
      "metadata": {
        "id": "a-X5kRsSYySg"
      }
    },
    {
      "cell_type": "code",
      "source": [
        "import pandas as pd\n",
        "import numpy as np\n",
        "data = '/customer_booking.csv'\n",
        "frame= pd.read_csv(data, encoding='ISO-8859-1')\n",
        "frame.head()"
      ],
      "metadata": {
        "colab": {
          "base_uri": "https://localhost:8080/",
          "height": 270
        },
        "id": "ZxWZW8tEY05n",
        "outputId": "79f52f74-86e6-428c-a616-18b257005a07"
      },
      "execution_count": 3,
      "outputs": [
        {
          "output_type": "execute_result",
          "data": {
            "text/plain": [
              "   num_passengers sales_channel  trip_type  purchase_lead  length_of_stay  \\\n",
              "0               2      Internet  RoundTrip            262              19   \n",
              "1               1      Internet  RoundTrip            112              20   \n",
              "2               2      Internet  RoundTrip            243              22   \n",
              "3               1      Internet  RoundTrip             96              31   \n",
              "4               2      Internet  RoundTrip             68              22   \n",
              "\n",
              "   flight_hour flight_day   route booking_origin  wants_extra_baggage  \\\n",
              "0            7        Sat  AKLDEL    New Zealand                    1   \n",
              "1            3        Sat  AKLDEL    New Zealand                    0   \n",
              "2           17        Wed  AKLDEL          India                    1   \n",
              "3            4        Sat  AKLDEL    New Zealand                    0   \n",
              "4           15        Wed  AKLDEL          India                    1   \n",
              "\n",
              "   wants_preferred_seat  wants_in_flight_meals  flight_duration  \\\n",
              "0                     0                      0             5.52   \n",
              "1                     0                      0             5.52   \n",
              "2                     1                      0             5.52   \n",
              "3                     0                      1             5.52   \n",
              "4                     0                      1             5.52   \n",
              "\n",
              "   booking_complete  \n",
              "0                 0  \n",
              "1                 0  \n",
              "2                 0  \n",
              "3                 0  \n",
              "4                 0  "
            ],
            "text/html": [
              "\n",
              "  <div id=\"df-4696daa4-cd89-48a9-9c40-ba46a8fabfc5\">\n",
              "    <div class=\"colab-df-container\">\n",
              "      <div>\n",
              "<style scoped>\n",
              "    .dataframe tbody tr th:only-of-type {\n",
              "        vertical-align: middle;\n",
              "    }\n",
              "\n",
              "    .dataframe tbody tr th {\n",
              "        vertical-align: top;\n",
              "    }\n",
              "\n",
              "    .dataframe thead th {\n",
              "        text-align: right;\n",
              "    }\n",
              "</style>\n",
              "<table border=\"1\" class=\"dataframe\">\n",
              "  <thead>\n",
              "    <tr style=\"text-align: right;\">\n",
              "      <th></th>\n",
              "      <th>num_passengers</th>\n",
              "      <th>sales_channel</th>\n",
              "      <th>trip_type</th>\n",
              "      <th>purchase_lead</th>\n",
              "      <th>length_of_stay</th>\n",
              "      <th>flight_hour</th>\n",
              "      <th>flight_day</th>\n",
              "      <th>route</th>\n",
              "      <th>booking_origin</th>\n",
              "      <th>wants_extra_baggage</th>\n",
              "      <th>wants_preferred_seat</th>\n",
              "      <th>wants_in_flight_meals</th>\n",
              "      <th>flight_duration</th>\n",
              "      <th>booking_complete</th>\n",
              "    </tr>\n",
              "  </thead>\n",
              "  <tbody>\n",
              "    <tr>\n",
              "      <th>0</th>\n",
              "      <td>2</td>\n",
              "      <td>Internet</td>\n",
              "      <td>RoundTrip</td>\n",
              "      <td>262</td>\n",
              "      <td>19</td>\n",
              "      <td>7</td>\n",
              "      <td>Sat</td>\n",
              "      <td>AKLDEL</td>\n",
              "      <td>New Zealand</td>\n",
              "      <td>1</td>\n",
              "      <td>0</td>\n",
              "      <td>0</td>\n",
              "      <td>5.52</td>\n",
              "      <td>0</td>\n",
              "    </tr>\n",
              "    <tr>\n",
              "      <th>1</th>\n",
              "      <td>1</td>\n",
              "      <td>Internet</td>\n",
              "      <td>RoundTrip</td>\n",
              "      <td>112</td>\n",
              "      <td>20</td>\n",
              "      <td>3</td>\n",
              "      <td>Sat</td>\n",
              "      <td>AKLDEL</td>\n",
              "      <td>New Zealand</td>\n",
              "      <td>0</td>\n",
              "      <td>0</td>\n",
              "      <td>0</td>\n",
              "      <td>5.52</td>\n",
              "      <td>0</td>\n",
              "    </tr>\n",
              "    <tr>\n",
              "      <th>2</th>\n",
              "      <td>2</td>\n",
              "      <td>Internet</td>\n",
              "      <td>RoundTrip</td>\n",
              "      <td>243</td>\n",
              "      <td>22</td>\n",
              "      <td>17</td>\n",
              "      <td>Wed</td>\n",
              "      <td>AKLDEL</td>\n",
              "      <td>India</td>\n",
              "      <td>1</td>\n",
              "      <td>1</td>\n",
              "      <td>0</td>\n",
              "      <td>5.52</td>\n",
              "      <td>0</td>\n",
              "    </tr>\n",
              "    <tr>\n",
              "      <th>3</th>\n",
              "      <td>1</td>\n",
              "      <td>Internet</td>\n",
              "      <td>RoundTrip</td>\n",
              "      <td>96</td>\n",
              "      <td>31</td>\n",
              "      <td>4</td>\n",
              "      <td>Sat</td>\n",
              "      <td>AKLDEL</td>\n",
              "      <td>New Zealand</td>\n",
              "      <td>0</td>\n",
              "      <td>0</td>\n",
              "      <td>1</td>\n",
              "      <td>5.52</td>\n",
              "      <td>0</td>\n",
              "    </tr>\n",
              "    <tr>\n",
              "      <th>4</th>\n",
              "      <td>2</td>\n",
              "      <td>Internet</td>\n",
              "      <td>RoundTrip</td>\n",
              "      <td>68</td>\n",
              "      <td>22</td>\n",
              "      <td>15</td>\n",
              "      <td>Wed</td>\n",
              "      <td>AKLDEL</td>\n",
              "      <td>India</td>\n",
              "      <td>1</td>\n",
              "      <td>0</td>\n",
              "      <td>1</td>\n",
              "      <td>5.52</td>\n",
              "      <td>0</td>\n",
              "    </tr>\n",
              "  </tbody>\n",
              "</table>\n",
              "</div>\n",
              "      <button class=\"colab-df-convert\" onclick=\"convertToInteractive('df-4696daa4-cd89-48a9-9c40-ba46a8fabfc5')\"\n",
              "              title=\"Convert this dataframe to an interactive table.\"\n",
              "              style=\"display:none;\">\n",
              "        \n",
              "  <svg xmlns=\"http://www.w3.org/2000/svg\" height=\"24px\"viewBox=\"0 0 24 24\"\n",
              "       width=\"24px\">\n",
              "    <path d=\"M0 0h24v24H0V0z\" fill=\"none\"/>\n",
              "    <path d=\"M18.56 5.44l.94 2.06.94-2.06 2.06-.94-2.06-.94-.94-2.06-.94 2.06-2.06.94zm-11 1L8.5 8.5l.94-2.06 2.06-.94-2.06-.94L8.5 2.5l-.94 2.06-2.06.94zm10 10l.94 2.06.94-2.06 2.06-.94-2.06-.94-.94-2.06-.94 2.06-2.06.94z\"/><path d=\"M17.41 7.96l-1.37-1.37c-.4-.4-.92-.59-1.43-.59-.52 0-1.04.2-1.43.59L10.3 9.45l-7.72 7.72c-.78.78-.78 2.05 0 2.83L4 21.41c.39.39.9.59 1.41.59.51 0 1.02-.2 1.41-.59l7.78-7.78 2.81-2.81c.8-.78.8-2.07 0-2.86zM5.41 20L4 18.59l7.72-7.72 1.47 1.35L5.41 20z\"/>\n",
              "  </svg>\n",
              "      </button>\n",
              "      \n",
              "  <style>\n",
              "    .colab-df-container {\n",
              "      display:flex;\n",
              "      flex-wrap:wrap;\n",
              "      gap: 12px;\n",
              "    }\n",
              "\n",
              "    .colab-df-convert {\n",
              "      background-color: #E8F0FE;\n",
              "      border: none;\n",
              "      border-radius: 50%;\n",
              "      cursor: pointer;\n",
              "      display: none;\n",
              "      fill: #1967D2;\n",
              "      height: 32px;\n",
              "      padding: 0 0 0 0;\n",
              "      width: 32px;\n",
              "    }\n",
              "\n",
              "    .colab-df-convert:hover {\n",
              "      background-color: #E2EBFA;\n",
              "      box-shadow: 0px 1px 2px rgba(60, 64, 67, 0.3), 0px 1px 3px 1px rgba(60, 64, 67, 0.15);\n",
              "      fill: #174EA6;\n",
              "    }\n",
              "\n",
              "    [theme=dark] .colab-df-convert {\n",
              "      background-color: #3B4455;\n",
              "      fill: #D2E3FC;\n",
              "    }\n",
              "\n",
              "    [theme=dark] .colab-df-convert:hover {\n",
              "      background-color: #434B5C;\n",
              "      box-shadow: 0px 1px 3px 1px rgba(0, 0, 0, 0.15);\n",
              "      filter: drop-shadow(0px 1px 2px rgba(0, 0, 0, 0.3));\n",
              "      fill: #FFFFFF;\n",
              "    }\n",
              "  </style>\n",
              "\n",
              "      <script>\n",
              "        const buttonEl =\n",
              "          document.querySelector('#df-4696daa4-cd89-48a9-9c40-ba46a8fabfc5 button.colab-df-convert');\n",
              "        buttonEl.style.display =\n",
              "          google.colab.kernel.accessAllowed ? 'block' : 'none';\n",
              "\n",
              "        async function convertToInteractive(key) {\n",
              "          const element = document.querySelector('#df-4696daa4-cd89-48a9-9c40-ba46a8fabfc5');\n",
              "          const dataTable =\n",
              "            await google.colab.kernel.invokeFunction('convertToInteractive',\n",
              "                                                     [key], {});\n",
              "          if (!dataTable) return;\n",
              "\n",
              "          const docLinkHtml = 'Like what you see? Visit the ' +\n",
              "            '<a target=\"_blank\" href=https://colab.research.google.com/notebooks/data_table.ipynb>data table notebook</a>'\n",
              "            + ' to learn more about interactive tables.';\n",
              "          element.innerHTML = '';\n",
              "          dataTable['output_type'] = 'display_data';\n",
              "          await google.colab.output.renderOutput(dataTable, element);\n",
              "          const docLink = document.createElement('div');\n",
              "          docLink.innerHTML = docLinkHtml;\n",
              "          element.appendChild(docLink);\n",
              "        }\n",
              "      </script>\n",
              "    </div>\n",
              "  </div>\n",
              "  "
            ]
          },
          "metadata": {},
          "execution_count": 3
        }
      ]
    },
    {
      "cell_type": "code",
      "source": [
        "print(frame.shape)\n",
        "print(frame.dtypes)"
      ],
      "metadata": {
        "colab": {
          "base_uri": "https://localhost:8080/"
        },
        "id": "qvN4R-edZvKV",
        "outputId": "37ce6b0a-051c-4940-c04b-d24f507f3c4e"
      },
      "execution_count": 4,
      "outputs": [
        {
          "output_type": "stream",
          "name": "stdout",
          "text": [
            "(50000, 14)\n",
            "num_passengers             int64\n",
            "sales_channel             object\n",
            "trip_type                 object\n",
            "purchase_lead              int64\n",
            "length_of_stay             int64\n",
            "flight_hour                int64\n",
            "flight_day                object\n",
            "route                     object\n",
            "booking_origin            object\n",
            "wants_extra_baggage        int64\n",
            "wants_preferred_seat       int64\n",
            "wants_in_flight_meals      int64\n",
            "flight_duration          float64\n",
            "booking_complete           int64\n",
            "dtype: object\n"
          ]
        }
      ]
    },
    {
      "cell_type": "code",
      "source": [
        "print(frame.isnull().sum())"
      ],
      "metadata": {
        "colab": {
          "base_uri": "https://localhost:8080/"
        },
        "id": "m5_0gWzyZ6U6",
        "outputId": "6370ed2d-5be1-4fef-a361-dedcceaed02d"
      },
      "execution_count": 5,
      "outputs": [
        {
          "output_type": "stream",
          "name": "stdout",
          "text": [
            "num_passengers           0\n",
            "sales_channel            0\n",
            "trip_type                0\n",
            "purchase_lead            0\n",
            "length_of_stay           0\n",
            "flight_hour              0\n",
            "flight_day               0\n",
            "route                    0\n",
            "booking_origin           0\n",
            "wants_extra_baggage      0\n",
            "wants_preferred_seat     0\n",
            "wants_in_flight_meals    0\n",
            "flight_duration          0\n",
            "booking_complete         0\n",
            "dtype: int64\n"
          ]
        }
      ]
    },
    {
      "cell_type": "markdown",
      "source": [
        "As we can see, there are no null values in the dataset"
      ],
      "metadata": {
        "id": "j6Gp0MONaE4I"
      }
    },
    {
      "cell_type": "code",
      "source": [
        "print(frame['booking_complete'].value_counts())"
      ],
      "metadata": {
        "colab": {
          "base_uri": "https://localhost:8080/"
        },
        "id": "3nn4o-9YaCkm",
        "outputId": "1fb6f9c0-aef0-4a2e-ad2e-a8498c3207e3"
      },
      "execution_count": 6,
      "outputs": [
        {
          "output_type": "stream",
          "name": "stdout",
          "text": [
            "0    42522\n",
            "1     7478\n",
            "Name: booking_complete, dtype: int64\n"
          ]
        }
      ]
    },
    {
      "cell_type": "markdown",
      "source": [
        "# **Using sklearn to split the data**"
      ],
      "metadata": {
        "id": "Uvxe_ilBaka8"
      }
    },
    {
      "cell_type": "code",
      "source": [
        "from sklearn.model_selection import train_test_split\n",
        "X= frame.drop(['booking_complete','sales_channel','trip_type','flight_day','route','booking_origin'],axis=1)\n",
        "y=frame.booking_complete\n",
        "\n",
        "X_train, X_valid, y_train, y_valid= train_test_split(X,y,random_state=1,test_size=0.3)\n"
      ],
      "metadata": {
        "id": "stLzqSgLardr"
      },
      "execution_count": 7,
      "outputs": []
    },
    {
      "cell_type": "markdown",
      "source": [
        "Creating a Sequential Layers and applying Batch Normlization and DropOut.<br>\n",
        "Early Stopping to avoid Over-fitting the data."
      ],
      "metadata": {
        "id": "_fEOeTXAwEiJ"
      }
    },
    {
      "cell_type": "code",
      "source": [
        "from tensorflow import keras\n",
        "from tensorflow.keras import layers\n",
        "from tensorflow.keras import callbacks\n",
        "\n",
        "model= keras.Sequential([\n",
        "    layers.Dense(units=512,input_shape=[8], activation='relu'),\n",
        "    layers.Dropout(0.3),\n",
        "    layers.BatchNormalization(),\n",
        "    layers.Dense(units=256, activation='relu'),\n",
        "    layers.Dropout(0.3),\n",
        "    layers.BatchNormalization(),\n",
        "    layers.Dense(units=128, activation='relu'),\n",
        "    layers.Dropout(0.3),\n",
        "    layers.BatchNormalization(),\n",
        "    layers.Dense(units=64, activation='relu'),\n",
        "    layers.Dropout(0.3),\n",
        "    layers.BatchNormalization(),\n",
        "    layers.Dense(units=16, activation='relu'),\n",
        "    layers.Dropout(0.3),\n",
        "    layers.BatchNormalization(),\n",
        "    layers.Dense(units=1)\n",
        "])\n",
        "\n",
        "model.compile(\n",
        "    optimizer='adam',\n",
        "    loss='binary_crossentropy',\n",
        "    metrics=['accuracy']\n",
        ")\n",
        "early_stopping=callbacks.EarlyStopping(\n",
        "    min_delta=0.001,\n",
        "    patience=50,\n",
        "    restore_best_weights=True\n",
        ")\n",
        "\n",
        "history=model.fit(\n",
        "    X_train, y_train,\n",
        "    validation_data=(X_valid, y_valid),\n",
        "    batch_size=120,\n",
        "    epochs=100,\n",
        "    callbacks=[early_stopping]\n",
        ")"
      ],
      "metadata": {
        "colab": {
          "base_uri": "https://localhost:8080/"
        },
        "id": "krSvpTaabY7n",
        "outputId": "1169ed3e-a708-42bf-dd1f-058ea88d7332"
      },
      "execution_count": 8,
      "outputs": [
        {
          "output_type": "stream",
          "name": "stdout",
          "text": [
            "Epoch 1/100\n",
            "292/292 [==============================] - 8s 16ms/step - loss: 2.1891 - accuracy: 0.7556 - val_loss: 1.2195 - val_accuracy: 0.8493\n",
            "Epoch 2/100\n",
            "292/292 [==============================] - 5s 18ms/step - loss: 1.3447 - accuracy: 0.8121 - val_loss: 0.9477 - val_accuracy: 0.8493\n",
            "Epoch 3/100\n",
            "292/292 [==============================] - 5s 16ms/step - loss: 1.0358 - accuracy: 0.8307 - val_loss: 0.8531 - val_accuracy: 0.8416\n",
            "Epoch 4/100\n",
            "292/292 [==============================] - 4s 15ms/step - loss: 0.8523 - accuracy: 0.8406 - val_loss: 0.7154 - val_accuracy: 0.8486\n",
            "Epoch 5/100\n",
            "292/292 [==============================] - 6s 20ms/step - loss: 0.8183 - accuracy: 0.8363 - val_loss: 0.7555 - val_accuracy: 0.8493\n",
            "Epoch 6/100\n",
            "292/292 [==============================] - 4s 15ms/step - loss: 0.7362 - accuracy: 0.8404 - val_loss: 0.6324 - val_accuracy: 0.8493\n",
            "Epoch 7/100\n",
            "292/292 [==============================] - 5s 16ms/step - loss: 0.7385 - accuracy: 0.8440 - val_loss: 0.7563 - val_accuracy: 0.8493\n",
            "Epoch 8/100\n",
            "292/292 [==============================] - 5s 18ms/step - loss: 0.7663 - accuracy: 0.8463 - val_loss: 0.6765 - val_accuracy: 0.8493\n",
            "Epoch 9/100\n",
            "292/292 [==============================] - 4s 15ms/step - loss: 0.7455 - accuracy: 0.8454 - val_loss: 0.6580 - val_accuracy: 0.8493\n",
            "Epoch 10/100\n",
            "292/292 [==============================] - 6s 19ms/step - loss: 0.7205 - accuracy: 0.8471 - val_loss: 0.6457 - val_accuracy: 0.8493\n",
            "Epoch 11/100\n",
            "292/292 [==============================] - 4s 15ms/step - loss: 0.7059 - accuracy: 0.8472 - val_loss: 0.6458 - val_accuracy: 0.8493\n",
            "Epoch 12/100\n",
            "292/292 [==============================] - 5s 16ms/step - loss: 0.6919 - accuracy: 0.8469 - val_loss: 0.6340 - val_accuracy: 0.8493\n",
            "Epoch 13/100\n",
            "292/292 [==============================] - 6s 22ms/step - loss: 0.6816 - accuracy: 0.8471 - val_loss: 0.6471 - val_accuracy: 0.8493\n",
            "Epoch 14/100\n",
            "292/292 [==============================] - 5s 16ms/step - loss: 0.6722 - accuracy: 0.8478 - val_loss: 0.6409 - val_accuracy: 0.8493\n",
            "Epoch 15/100\n",
            "292/292 [==============================] - 5s 18ms/step - loss: 0.7002 - accuracy: 0.8481 - val_loss: 0.6615 - val_accuracy: 0.8493\n",
            "Epoch 16/100\n",
            "292/292 [==============================] - 4s 15ms/step - loss: 0.6639 - accuracy: 0.8487 - val_loss: 0.6375 - val_accuracy: 0.8493\n",
            "Epoch 17/100\n",
            "292/292 [==============================] - 5s 16ms/step - loss: 0.6552 - accuracy: 0.8476 - val_loss: 0.6290 - val_accuracy: 0.8493\n",
            "Epoch 18/100\n",
            "292/292 [==============================] - 6s 20ms/step - loss: 0.6491 - accuracy: 0.8475 - val_loss: 0.6095 - val_accuracy: 0.8493\n",
            "Epoch 19/100\n",
            "292/292 [==============================] - 5s 16ms/step - loss: 0.6279 - accuracy: 0.8487 - val_loss: 0.6241 - val_accuracy: 0.8493\n",
            "Epoch 20/100\n",
            "292/292 [==============================] - 5s 16ms/step - loss: 0.6300 - accuracy: 0.8478 - val_loss: 0.6236 - val_accuracy: 0.8493\n",
            "Epoch 21/100\n",
            "292/292 [==============================] - 6s 19ms/step - loss: 0.6206 - accuracy: 0.8484 - val_loss: 0.6168 - val_accuracy: 0.8493\n",
            "Epoch 22/100\n",
            "292/292 [==============================] - 5s 16ms/step - loss: 0.6173 - accuracy: 0.8488 - val_loss: 0.6127 - val_accuracy: 0.8493\n",
            "Epoch 23/100\n",
            "292/292 [==============================] - 6s 20ms/step - loss: 0.6059 - accuracy: 0.8487 - val_loss: 0.5782 - val_accuracy: 0.8493\n",
            "Epoch 24/100\n",
            "292/292 [==============================] - 4s 15ms/step - loss: 0.5999 - accuracy: 0.8483 - val_loss: 0.6030 - val_accuracy: 0.8493\n",
            "Epoch 25/100\n",
            "292/292 [==============================] - 4s 15ms/step - loss: 0.5831 - accuracy: 0.8468 - val_loss: 0.5381 - val_accuracy: 0.8493\n",
            "Epoch 26/100\n",
            "292/292 [==============================] - 6s 19ms/step - loss: 0.5687 - accuracy: 0.8477 - val_loss: 0.5776 - val_accuracy: 0.8493\n",
            "Epoch 27/100\n",
            "292/292 [==============================] - 5s 16ms/step - loss: 0.5617 - accuracy: 0.8469 - val_loss: 0.5251 - val_accuracy: 0.8493\n",
            "Epoch 28/100\n",
            "292/292 [==============================] - 5s 18ms/step - loss: 0.5522 - accuracy: 0.8474 - val_loss: 0.5473 - val_accuracy: 0.8493\n",
            "Epoch 29/100\n",
            "292/292 [==============================] - 5s 16ms/step - loss: 0.5644 - accuracy: 0.8434 - val_loss: 0.5264 - val_accuracy: 0.8493\n",
            "Epoch 30/100\n",
            "292/292 [==============================] - 5s 16ms/step - loss: 0.5369 - accuracy: 0.8467 - val_loss: 0.5174 - val_accuracy: 0.8493\n",
            "Epoch 31/100\n",
            "292/292 [==============================] - 5s 19ms/step - loss: 0.5239 - accuracy: 0.8490 - val_loss: 0.5208 - val_accuracy: 0.8493\n",
            "Epoch 32/100\n",
            "292/292 [==============================] - 5s 16ms/step - loss: 0.5158 - accuracy: 0.8480 - val_loss: 0.4496 - val_accuracy: 0.8493\n",
            "Epoch 33/100\n",
            "292/292 [==============================] - 4s 15ms/step - loss: 0.5134 - accuracy: 0.8495 - val_loss: 0.4910 - val_accuracy: 0.8493\n",
            "Epoch 34/100\n",
            "292/292 [==============================] - 5s 19ms/step - loss: 0.5021 - accuracy: 0.8495 - val_loss: 0.4944 - val_accuracy: 0.8493\n",
            "Epoch 35/100\n",
            "292/292 [==============================] - 4s 15ms/step - loss: 0.5127 - accuracy: 0.8499 - val_loss: 0.5172 - val_accuracy: 0.8493\n",
            "Epoch 36/100\n",
            "292/292 [==============================] - 5s 18ms/step - loss: 0.5074 - accuracy: 0.8489 - val_loss: 0.4465 - val_accuracy: 0.8493\n",
            "Epoch 37/100\n",
            "292/292 [==============================] - 5s 17ms/step - loss: 0.5152 - accuracy: 0.8457 - val_loss: 0.4604 - val_accuracy: 0.8493\n",
            "Epoch 38/100\n",
            "292/292 [==============================] - 4s 15ms/step - loss: 0.5127 - accuracy: 0.8429 - val_loss: 0.4545 - val_accuracy: 0.8493\n",
            "Epoch 39/100\n",
            "292/292 [==============================] - 6s 20ms/step - loss: 0.4998 - accuracy: 0.8456 - val_loss: 0.4508 - val_accuracy: 0.8493\n",
            "Epoch 40/100\n",
            "292/292 [==============================] - 5s 16ms/step - loss: 0.5064 - accuracy: 0.8462 - val_loss: 0.4517 - val_accuracy: 0.8493\n",
            "Epoch 41/100\n",
            "292/292 [==============================] - 5s 16ms/step - loss: 0.5079 - accuracy: 0.8503 - val_loss: 0.4499 - val_accuracy: 0.8493\n",
            "Epoch 42/100\n",
            "292/292 [==============================] - 5s 19ms/step - loss: 0.5047 - accuracy: 0.8497 - val_loss: 0.4529 - val_accuracy: 0.8493\n",
            "Epoch 43/100\n",
            "292/292 [==============================] - 4s 15ms/step - loss: 0.4856 - accuracy: 0.8493 - val_loss: 0.4470 - val_accuracy: 0.8493\n",
            "Epoch 44/100\n",
            "292/292 [==============================] - 6s 19ms/step - loss: 0.4852 - accuracy: 0.8487 - val_loss: 0.4442 - val_accuracy: 0.8493\n",
            "Epoch 45/100\n",
            "292/292 [==============================] - 4s 15ms/step - loss: 0.4754 - accuracy: 0.8491 - val_loss: 0.4443 - val_accuracy: 0.8493\n",
            "Epoch 46/100\n",
            "292/292 [==============================] - 4s 15ms/step - loss: 0.4750 - accuracy: 0.8498 - val_loss: 0.4438 - val_accuracy: 0.8493\n",
            "Epoch 47/100\n",
            "292/292 [==============================] - 6s 20ms/step - loss: 0.4724 - accuracy: 0.8500 - val_loss: 0.4470 - val_accuracy: 0.8493\n",
            "Epoch 48/100\n",
            "292/292 [==============================] - 5s 16ms/step - loss: 0.4703 - accuracy: 0.8500 - val_loss: 0.4461 - val_accuracy: 0.8493\n",
            "Epoch 49/100\n",
            "292/292 [==============================] - 5s 16ms/step - loss: 0.4726 - accuracy: 0.8503 - val_loss: 0.4433 - val_accuracy: 0.8493\n",
            "Epoch 50/100\n",
            "292/292 [==============================] - 5s 17ms/step - loss: 0.4726 - accuracy: 0.8496 - val_loss: 0.4433 - val_accuracy: 0.8493\n",
            "Epoch 51/100\n",
            "292/292 [==============================] - 5s 16ms/step - loss: 0.4675 - accuracy: 0.8497 - val_loss: 0.4427 - val_accuracy: 0.8493\n",
            "Epoch 52/100\n",
            "292/292 [==============================] - 5s 19ms/step - loss: 0.4607 - accuracy: 0.8502 - val_loss: 0.4425 - val_accuracy: 0.8493\n",
            "Epoch 53/100\n",
            "292/292 [==============================] - 4s 15ms/step - loss: 0.4702 - accuracy: 0.8499 - val_loss: 0.4423 - val_accuracy: 0.8493\n",
            "Epoch 54/100\n",
            "292/292 [==============================] - 4s 15ms/step - loss: 0.4634 - accuracy: 0.8493 - val_loss: 0.4419 - val_accuracy: 0.8493\n",
            "Epoch 55/100\n",
            "292/292 [==============================] - 6s 20ms/step - loss: 0.4606 - accuracy: 0.8499 - val_loss: 0.4423 - val_accuracy: 0.8493\n",
            "Epoch 56/100\n",
            "292/292 [==============================] - 5s 16ms/step - loss: 0.4639 - accuracy: 0.8504 - val_loss: 0.4415 - val_accuracy: 0.8493\n",
            "Epoch 57/100\n",
            "292/292 [==============================] - 5s 17ms/step - loss: 0.4611 - accuracy: 0.8504 - val_loss: 0.4419 - val_accuracy: 0.8493\n",
            "Epoch 58/100\n",
            "292/292 [==============================] - 5s 17ms/step - loss: 0.4602 - accuracy: 0.8500 - val_loss: 0.4402 - val_accuracy: 0.8493\n",
            "Epoch 59/100\n",
            "292/292 [==============================] - 5s 16ms/step - loss: 0.4748 - accuracy: 0.8499 - val_loss: 0.4323 - val_accuracy: 0.8493\n",
            "Epoch 60/100\n",
            "292/292 [==============================] - 6s 20ms/step - loss: 0.4759 - accuracy: 0.8496 - val_loss: 0.4372 - val_accuracy: 0.8493\n",
            "Epoch 61/100\n",
            "292/292 [==============================] - 4s 15ms/step - loss: 0.4665 - accuracy: 0.8501 - val_loss: 0.4449 - val_accuracy: 0.8493\n",
            "Epoch 62/100\n",
            "292/292 [==============================] - 4s 15ms/step - loss: 0.4645 - accuracy: 0.8453 - val_loss: 0.4377 - val_accuracy: 0.8493\n",
            "Epoch 63/100\n",
            "292/292 [==============================] - 6s 20ms/step - loss: 0.4458 - accuracy: 0.8474 - val_loss: 0.4401 - val_accuracy: 0.8493\n",
            "Epoch 64/100\n",
            "292/292 [==============================] - 4s 15ms/step - loss: 0.4418 - accuracy: 0.8487 - val_loss: 0.4304 - val_accuracy: 0.8493\n",
            "Epoch 65/100\n",
            "292/292 [==============================] - 5s 19ms/step - loss: 0.4374 - accuracy: 0.8481 - val_loss: 0.4305 - val_accuracy: 0.8493\n",
            "Epoch 66/100\n",
            "292/292 [==============================] - 5s 16ms/step - loss: 0.4316 - accuracy: 0.8494 - val_loss: 0.4495 - val_accuracy: 0.8431\n",
            "Epoch 67/100\n",
            "292/292 [==============================] - 5s 16ms/step - loss: 0.4315 - accuracy: 0.8456 - val_loss: 0.4216 - val_accuracy: 0.8479\n",
            "Epoch 68/100\n",
            "292/292 [==============================] - 6s 20ms/step - loss: 0.4201 - accuracy: 0.8495 - val_loss: 0.4182 - val_accuracy: 0.8493\n",
            "Epoch 69/100\n",
            "292/292 [==============================] - 5s 16ms/step - loss: 0.4194 - accuracy: 0.8509 - val_loss: 0.4183 - val_accuracy: 0.8493\n",
            "Epoch 70/100\n",
            "292/292 [==============================] - 5s 18ms/step - loss: 0.4177 - accuracy: 0.8509 - val_loss: 0.4179 - val_accuracy: 0.8493\n",
            "Epoch 71/100\n",
            "292/292 [==============================] - 5s 17ms/step - loss: 0.4168 - accuracy: 0.8509 - val_loss: 0.4177 - val_accuracy: 0.8492\n",
            "Epoch 72/100\n",
            "292/292 [==============================] - 5s 16ms/step - loss: 0.4171 - accuracy: 0.8509 - val_loss: 0.4169 - val_accuracy: 0.8493\n",
            "Epoch 73/100\n",
            "292/292 [==============================] - 6s 19ms/step - loss: 0.4163 - accuracy: 0.8509 - val_loss: 0.4182 - val_accuracy: 0.8493\n",
            "Epoch 74/100\n",
            "292/292 [==============================] - 5s 16ms/step - loss: 0.4158 - accuracy: 0.8509 - val_loss: 0.4159 - val_accuracy: 0.8493\n",
            "Epoch 75/100\n",
            "292/292 [==============================] - 5s 17ms/step - loss: 0.4153 - accuracy: 0.8509 - val_loss: 0.4149 - val_accuracy: 0.8493\n",
            "Epoch 76/100\n",
            "292/292 [==============================] - 5s 17ms/step - loss: 0.4144 - accuracy: 0.8509 - val_loss: 0.4138 - val_accuracy: 0.8493\n",
            "Epoch 77/100\n",
            "292/292 [==============================] - 5s 16ms/step - loss: 0.4131 - accuracy: 0.8509 - val_loss: 0.4124 - val_accuracy: 0.8493\n",
            "Epoch 78/100\n",
            "292/292 [==============================] - 6s 20ms/step - loss: 0.4128 - accuracy: 0.8509 - val_loss: 0.4112 - val_accuracy: 0.8493\n",
            "Epoch 79/100\n",
            "292/292 [==============================] - 4s 15ms/step - loss: 0.4134 - accuracy: 0.8510 - val_loss: 0.4132 - val_accuracy: 0.8493\n",
            "Epoch 80/100\n",
            "292/292 [==============================] - 5s 16ms/step - loss: 0.4122 - accuracy: 0.8510 - val_loss: 0.4129 - val_accuracy: 0.8493\n",
            "Epoch 81/100\n",
            "292/292 [==============================] - 6s 20ms/step - loss: 0.4109 - accuracy: 0.8509 - val_loss: 0.4126 - val_accuracy: 0.8491\n",
            "Epoch 82/100\n",
            "292/292 [==============================] - 4s 15ms/step - loss: 0.4112 - accuracy: 0.8509 - val_loss: 0.4137 - val_accuracy: 0.8479\n",
            "Epoch 83/100\n",
            "292/292 [==============================] - 5s 18ms/step - loss: 0.4101 - accuracy: 0.8509 - val_loss: 0.4088 - val_accuracy: 0.8492\n",
            "Epoch 84/100\n",
            "292/292 [==============================] - 5s 16ms/step - loss: 0.4103 - accuracy: 0.8510 - val_loss: 0.4101 - val_accuracy: 0.8493\n",
            "Epoch 85/100\n",
            "292/292 [==============================] - 5s 16ms/step - loss: 0.4101 - accuracy: 0.8509 - val_loss: 0.4131 - val_accuracy: 0.8493\n",
            "Epoch 86/100\n",
            "292/292 [==============================] - 6s 20ms/step - loss: 0.4097 - accuracy: 0.8509 - val_loss: 0.4093 - val_accuracy: 0.8492\n",
            "Epoch 87/100\n",
            "292/292 [==============================] - 4s 15ms/step - loss: 0.4098 - accuracy: 0.8509 - val_loss: 0.4105 - val_accuracy: 0.8492\n",
            "Epoch 88/100\n",
            "292/292 [==============================] - 5s 16ms/step - loss: 0.4098 - accuracy: 0.8501 - val_loss: 0.4093 - val_accuracy: 0.8491\n",
            "Epoch 89/100\n",
            "292/292 [==============================] - 5s 18ms/step - loss: 0.4092 - accuracy: 0.8509 - val_loss: 0.4083 - val_accuracy: 0.8492\n",
            "Epoch 90/100\n",
            "292/292 [==============================] - 4s 15ms/step - loss: 0.4085 - accuracy: 0.8509 - val_loss: 0.4060 - val_accuracy: 0.8492\n",
            "Epoch 91/100\n",
            "292/292 [==============================] - 6s 20ms/step - loss: 0.4079 - accuracy: 0.8509 - val_loss: 0.4067 - val_accuracy: 0.8493\n",
            "Epoch 92/100\n",
            "292/292 [==============================] - 4s 15ms/step - loss: 0.4084 - accuracy: 0.8510 - val_loss: 0.4091 - val_accuracy: 0.8492\n",
            "Epoch 93/100\n",
            "292/292 [==============================] - 4s 15ms/step - loss: 0.4081 - accuracy: 0.8509 - val_loss: 0.4068 - val_accuracy: 0.8492\n",
            "Epoch 94/100\n",
            "292/292 [==============================] - 6s 20ms/step - loss: 0.4076 - accuracy: 0.8509 - val_loss: 0.4098 - val_accuracy: 0.8490\n",
            "Epoch 95/100\n",
            "292/292 [==============================] - 5s 16ms/step - loss: 0.4076 - accuracy: 0.8509 - val_loss: 0.4068 - val_accuracy: 0.8493\n",
            "Epoch 96/100\n",
            "292/292 [==============================] - 5s 18ms/step - loss: 0.4068 - accuracy: 0.8509 - val_loss: 0.4130 - val_accuracy: 0.8493\n",
            "Epoch 97/100\n",
            "292/292 [==============================] - 5s 17ms/step - loss: 0.4074 - accuracy: 0.8509 - val_loss: 0.4108 - val_accuracy: 0.8493\n",
            "Epoch 98/100\n",
            "292/292 [==============================] - 5s 16ms/step - loss: 0.4068 - accuracy: 0.8510 - val_loss: 0.4086 - val_accuracy: 0.8493\n",
            "Epoch 99/100\n",
            "292/292 [==============================] - 6s 20ms/step - loss: 0.4072 - accuracy: 0.8509 - val_loss: 0.4084 - val_accuracy: 0.8493\n",
            "Epoch 100/100\n",
            "292/292 [==============================] - 5s 16ms/step - loss: 0.4072 - accuracy: 0.8509 - val_loss: 0.4077 - val_accuracy: 0.8493\n"
          ]
        }
      ]
    },
    {
      "cell_type": "code",
      "source": [
        "import matplotlib.pyplot as plt\n",
        "plt.style.use('seaborn-whitegrid')\n",
        "# Set Matplotlib defaults\n",
        "plt.rc('figure', autolayout=True)\n",
        "plt.rc('axes', labelweight='bold', labelsize='large',\n",
        "       titleweight='bold', titlesize=18, titlepad=10)\n",
        "plt.rc('animation', html='html5')\n",
        "\n",
        "history_df = pd.DataFrame(history.history)\n",
        "history_df.loc[:, ['loss', 'val_loss']].plot()\n",
        "print(\"Minimum Validation Loss: {:0.4f}\".format(history_df['val_loss'].min()));"
      ],
      "metadata": {
        "colab": {
          "base_uri": "https://localhost:8080/",
          "height": 559
        },
        "id": "aNiYzDuReP3B",
        "outputId": "2f88d6cb-9f77-4121-bb7d-364e9f6843b6"
      },
      "execution_count": 9,
      "outputs": [
        {
          "output_type": "stream",
          "name": "stderr",
          "text": [
            "<ipython-input-9-566ade0a9f57>:2: MatplotlibDeprecationWarning: The seaborn styles shipped by Matplotlib are deprecated since 3.6, as they no longer correspond to the styles shipped by seaborn. However, they will remain available as 'seaborn-v0_8-<style>'. Alternatively, directly use the seaborn API instead.\n",
            "  plt.style.use('seaborn-whitegrid')\n"
          ]
        },
        {
          "output_type": "stream",
          "name": "stdout",
          "text": [
            "Minimum Validation Loss: 0.4060\n"
          ]
        },
        {
          "output_type": "display_data",
          "data": {
            "text/plain": [
              "<Figure size 640x480 with 1 Axes>"
            ],
            "image/png": "[encoded data removed]"
          },
          "metadata": {}
        }
      ]
    },
    {
      "cell_type": "code",
      "source": [
        "print(model.evaluate(X_valid, y_valid))"
      ],
      "metadata": {
        "colab": {
          "base_uri": "https://localhost:8080/"
        },
        "id": "yPeRaLL6koif",
        "outputId": "6ca8ec37-10ad-428f-8ead-82ac86fc41a8"
      },
      "execution_count": 11,
      "outputs": [
        {
          "output_type": "stream",
          "name": "stdout",
          "text": [
            "469/469 [==============================] - 1s 3ms/step - loss: 0.4077 - accuracy: 0.8493\n",
            "[0.4076787233352661, 0.8492666482925415]\n"
          ]
        }
      ]
    }
  ]
}