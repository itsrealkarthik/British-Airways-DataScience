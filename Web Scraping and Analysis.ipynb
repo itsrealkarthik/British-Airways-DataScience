{
 "cells": [
  {
   "cell_type": "markdown",
   "id": "208ce980",
   "metadata": {},
   "source": [
    "# Web Scraping and Analysis\n"
   ]
  },
  {
   "cell_type": "markdown",
   "id": "fbd3992e",
   "metadata": {},
   "source": [
    "This Jupyter Notebook is created for the British Airways Virtual Internship Task #1 (Web Scraping and Sentiment Analysis)."
   ]
  },
  {
   "cell_type": "markdown",
   "id": "33716a31",
   "metadata": {},
   "source": [
    "<h3>Scrape Data from Skytrax Using BeautifulSoup</h3>"
   ]
  },
  {
   "cell_type": "markdown",
   "id": "1b30e577",
   "metadata": {},
   "source": [
    "Website URL: https://www.airlinequality.com/airline-reviews/british-airways\n",
    "</br>Python Library : beautifulsoup4 4.12.2\n",
    "\n",
    "pip install beautifulsoup4"
   ]
  },
  {
   "cell_type": "code",
   "execution_count": 2,
   "id": "dd0e20a0",
   "metadata": {},
   "outputs": [],
   "source": [
    "import pandas as pd\n",
    "import requests\n",
    "from bs4 import BeautifulSoup"
   ]
  },
  {
   "cell_type": "code",
   "execution_count": 3,
   "id": "94c6a71b",
   "metadata": {},
   "outputs": [],
   "source": [
    "url= 'https://www.airlinequality.com/airline-reviews/british-airways'\n",
    "page=350\n",
    "review=[]\n",
    "for i in range(1,page+1):\n",
    "    getResponseURL= f\"{url}/page/{i}\"\n",
    "    responseContent=requests.get(getResponseURL)\n",
    "    \n",
    "    content=responseContent.content\n",
    "    parseContent=BeautifulSoup(content,'html.parser')\n",
    "    for reviews in parseContent.find_all(\"div\",class_=\"text_content\"):\n",
    "        review.append(reviews.get_text())\n",
    "    "
   ]
  },
  {
   "cell_type": "markdown",
   "id": "b943aa4e",
   "metadata": {
    "collapsed": true
   },
   "source": [
    "Now, the review list is going to have the set of all reviews. Now we clean it."
   ]
  },
  {
   "cell_type": "code",
   "execution_count": 18,
   "id": "6b33f83d",
   "metadata": {},
   "outputs": [],
   "source": [
    "for i in range(0, len(review)):\n",
    "    split=review[i].split(\"|\")\n",
    "    if len(split)==1:\n",
    "        review[i]=split[0]\n",
    "    else:\n",
    "        review[i]=split[1]"
   ]
  },
  {
   "cell_type": "markdown",
   "id": "80560656",
   "metadata": {},
   "source": [
    "Remove all Special Characters "
   ]
  },
  {
   "cell_type": "code",
   "execution_count": 19,
   "id": "d237dfd3",
   "metadata": {},
   "outputs": [],
   "source": [
    "import re\n",
    "def clean(text):\n",
    "    text=re.sub('[^A-Za-z]+',' ',text)\n",
    "    return text\n",
    "for i in range(0,len(review)):\n",
    "    review[i]=clean(review[i])"
   ]
  },
  {
   "cell_type": "markdown",
   "id": "b02ede6b",
   "metadata": {},
   "source": [
    "Now, We apply a series of procedure to the reviews list to apply sentiment analysis<br>\n",
    "STEP 1: Tokenization<br>\n",
    "STEP 2: Part of Speech Tagging<br>\n",
    "STEP 3: Remove StopWord\n"
   ]
  },
  {
   "cell_type": "code",
   "execution_count": null,
   "id": "e1fec230",
   "metadata": {},
   "outputs": [],
   "source": []
  }
 ],
 "metadata": {
  "kernelspec": {
   "display_name": "Python 3 (ipykernel)",
   "language": "python",
   "name": "python3"
  },
  "language_info": {
   "codemirror_mode": {
    "name": "ipython",
    "version": 3
   },
   "file_extension": ".py",
   "mimetype": "text/x-python",
   "name": "python",
   "nbconvert_exporter": "python",
   "pygments_lexer": "ipython3",
   "version": "3.9.6"
  }
 },
 "nbformat": 4,
 "nbformat_minor": 5
}
