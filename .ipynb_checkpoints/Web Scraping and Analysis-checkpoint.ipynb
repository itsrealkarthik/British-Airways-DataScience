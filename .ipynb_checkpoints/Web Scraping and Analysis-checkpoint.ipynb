{
 "cells": [
  {
   "cell_type": "markdown",
   "id": "6cc62425",
   "metadata": {},
   "source": [
    "# Web Scraping and Analysis\n"
   ]
  },
  {
   "cell_type": "markdown",
   "id": "28099dc3",
   "metadata": {},
   "source": [
    "This Jupyter Notebook is created for the British Airways Virtual Internship Task #1 (Web Scraping and Sentiment Analysis)."
   ]
  },
  {
   "cell_type": "markdown",
   "id": "fa9af301",
   "metadata": {},
   "source": [
    "<h3>Scrape Data from Skytrax Using BeautifulSoup</h3>"
   ]
  },
  {
   "cell_type": "markdown",
   "id": "2d20f4f7",
   "metadata": {},
   "source": [
    "Website URL: https://www.airlinequality.com/airline-reviews/british-airways\n",
    "</br>Python Library : beautifulsoup4 4.12.2\n",
    "\n",
    "pip install beautifulsoup4"
   ]
  },
  {
   "cell_type": "code",
   "execution_count": 2,
   "id": "766e8768",
   "metadata": {},
   "outputs": [],
   "source": [
    "import pandas as pd\n",
    "import requests\n",
    "from bs4 import BeautifulSoup"
   ]
  },
  {
   "cell_type": "code",
   "execution_count": 6,
   "id": "1542a53c",
   "metadata": {},
   "outputs": [
    {
     "name": "stdout",
     "output_type": "stream",
     "text": [
      "<div class=\"text_content\" itemprop=\"reviewBody\">✅ <strong><a href=\"https://www.airlinequality.com/verified-reviews/\"><em>Trip Verified</em></a></strong> |  Despite being a gold member, the British Airways staff in Heathrow literally could not care in the slightest about the absolute turmoil and logistical damage or wider impact of their terrible service. All the staff members repeat the same mantra - “we are not obliged to provide even an update for the first 24 hours” as if that would make the situation better. There are no proactive updates, no empathy, no care but a lot of actual lies being told. You can tell that they have given up any care or thought for the passengers as actual individuals - they show this in every action and word they say. All of them are better suited to working away from other humans.</div>\n",
      "<div class=\"text_content\" itemprop=\"reviewBody\"><strong><a href=\"https://www.airlinequality.com/verified-reviews/\"><em>Not Verified</em></a></strong> | Regarding the aircraft and seat: The business class seats on this flight were pretty good. All were of the suite type, where every seat has its own booth with sliding door for extra privacy. The downside to this is that if you are travelling as a couple, its quite difficult to interact. There is ample storage and USB charging ports. The seat is pretty comfortable. As someone who finds it very difficult to sleep on flights, this was one of the only times I've been able to get a few minutes sleep here and there. The amenities provided are pretty average when compared to other airlines. The leather toiletry bag was quite nice though. No slippers, only a pair of socks. The restrooms on the flight are very small, and don't provide much in the way of toiletries compared to other airlines. No free Wi-Fi in Business Class is not acceptable. Another example of BA's penny pinching in recent years. Regarding the staff and customer service: Poor. Inattentive. Beyond meal times there was offer of water during the flight. I had to go and find an attendant and ask. There was also no offer of any snacks. Rude at times. My partner asked for a fork to be replaced as the one provided was quite clearly dirty. The attendant was incredibly rude in response. This left us shocked. Different customers seem to receive a different quality of service. A customer behind me was repeatedly greeted politely by name and asked how they were, whether they needed anything etc. whereas my partner and I were not afforded the same level of personal service. This is disappointing as we paid the same price for the tickets so expect the same level of service. The food was pretty bad. I had risotto while my partner had chicken. Both were extremely over cooked and the rice looked like porridge. The vegetables were discoloured and flavourless. The bread was nice though. The breakfast wasn't much better. Summary: BA has become the Ryanair of long haul. The customer service is way below what I would expect for a premium airline in a premium seat. You pay a premium price for a very average service. If there are other options available I would choose them over BA these days.</div>\n",
      "<div class=\"text_content\" itemprop=\"reviewBody\"><strong><a href=\"https://www.airlinequality.com/verified-reviews/\"><em>Not Verified</em></a></strong> | I travelled with British Airways from Sweden to Los Angeles via London in December 2022. When I arrived at LAX one of my bags were missing. There was no information of the whereabouts of my bag and after searching for someone for about 30 minutes, I found the point of contact and she told me my bag was left behind. I gave her my details of where I would be staying and she told me that they would contact me. After a few days and still no contact I tried to call British Airways customer service. The woman at the airport didn’t give me a file reference number, so it was quite difficult to try and locate my bag, but they finally found the reference number and my bag and said it would be delivered in a couple of days. I told them that I had switched hotels and gave them the address for where I was staying and everything was fine. But then a couple of weeks went by and my bag was still nowhere to be seen and it was time for me to fly home. At the airport I tried to talk with the personnel there to try and locate my bag and they said that it was delivered to the first hotel I stayed at, even though I had given them an updated address. I asked them what I should to since I was flying home now. The guy at the counter told me that it wasn’t his problem and that I should figure it out myself. I questioned him about his response and he just walked away. A manager saw that and came up to me and apologized for his colleague and that they would send someone to fetch my bag and send it with either my flight or the next one. I came home and a couple of days later I received my bag. I made a complaint and claims on British Airways website since I had to buy clothes and toiletries during my vacation because I didn’t have my bag. In January they said that they would refund me for my claims, it is now April (almost May) and I have still not received the refund even after multiple email conversations. I don’t know what to do anymore about this situation since it appears that no one is willing to help me. I am appalled about how the situation is being handled and frankly disappointed at British Airways and the lack of customer service.</div>\n",
      "<div class=\"text_content\" itemprop=\"reviewBody\"><strong><a href=\"https://www.airlinequality.com/verified-reviews/\"><em>Not Verified</em></a></strong> |  Food was lousy. Who ever is planning the Asian Hindu Vegetarian meal is clueless as to what this meal includes. The snack was also lousy. It took us 2 hours just to go from T5 to T3 and clear security check. The place was chaotic. We get to our boarding gate and again a long line with 40 minutes wait for someone to check passport and boarding pass. Seats in Premium economy was ok, but when the passenger in front reclines, there is very little space for the window seat passenger to cross over. Overall not a good airline.</div>\n",
      "<div class=\"text_content\" itemprop=\"reviewBody\">✅ <strong><a href=\"https://www.airlinequality.com/verified-reviews/\"><em>Trip Verified</em></a></strong> | Had the worst experience. The flight from London to Toronto got delayed and we missed the connecting flight to Halifax. We were four including an infant and a toddler aged 4 years, despite being delayed and missed the connecting flight the ground staff were not at all helpful. We waited for an hour to get them to talk to us and at 12 am they told us they have not booked any hotel for us to stay that night and asked to go search for a hotel on your own, very nice of you British Airways. At least you guys should have given some consideration to the travelers who travel with children and booked some accommodation. We will NOT to travel on this airline again.</div>\n",
      "<div class=\"text_content\" itemprop=\"reviewBody\">✅ <strong><a href=\"https://www.airlinequality.com/verified-reviews/\"><em>Trip Verified</em></a></strong> |  The ground staff were not helpful. Felt like all they wanted to do was rush us to check in and then all passengers needed up waiting in a holding area for a bus anyway. Travelling with a child with a disability was a nightmare with British Airways. Logged a complaint and it took almost four weeks to answer. Lost some of our luggage. It was not a good experience.</div>\n",
      "<div class=\"text_content\" itemprop=\"reviewBody\">✅ <strong><a href=\"https://www.airlinequality.com/verified-reviews/\"><em>Trip Verified</em></a></strong> |  Second time BA Premium Economy in a newer aircraft and yet another excellent experience. Despite a three hour delay and missing my connection in Hong Kong, this was a very pleasant flight. Seats are spacious and comfortable in Premium Economy in this layout, attitude of the cabin crew was excellent and food was good. They communicate well and rebooked my connection during the flight which brought peace of mind. A very pleasant experience in BA Premium Economy after a major disappointment in Club World earlier this year.</div>\n",
      "<div class=\"text_content\" itemprop=\"reviewBody\"><strong><a href=\"https://www.airlinequality.com/verified-reviews/\"><em>Not Verified</em></a></strong> |  They changed our Flights from Brussels to London Heathrow to LAX on 4/16/2023. We paid extra to choose our seats. Since they cancelled they never honored the seat that we bought, they seated us in totally different seats. I asked the check in employee, she was very rude and told us that we have to understand that was a different flight. From London to LAX was worse, nobody in the airport help us. Employees from BA told us that we have to return next day for our flight we can rent a hotel or go terminal 3 and sleep there. Finally one employee help us and gives a voucher for hotel. It was a nightmare this airline. We missed one day work and BA didn’t return the money that we paid for our previous chosen seats.</div>\n",
      "<div class=\"text_content\" itemprop=\"reviewBody\"><strong><a href=\"https://www.airlinequality.com/verified-reviews/\"><em>Not Verified</em></a></strong> |  At Copenhagen the most chaotic ticket counter assignment in the history of airlines. Time on board never changed, no fixed counter at Airport. Abysmal service that needs vast improvement here</div>\n",
      "<div class=\"text_content\" itemprop=\"reviewBody\">✅ <strong><a href=\"https://www.airlinequality.com/verified-reviews/\"><em>Trip Verified</em></a></strong> |  Worst experience of my life trying to deal with the customer service for British Airways. So many issues with getting from one destination to the other. Had an absolutely horrible time trying to get answers or reach anyone who was capable of helping navigate uncertainties. I wrote them a formal complaint requesting some type of refund and received a generic “we are sorry” email with 5000 avios attached which is equivalent to maybe $50 on a $600+ flight. Needless to say these will go to waste as I refuse to fly with an untrustworthy incompetent unorganized airline that couldn’t even address one single issue expressed to them. It was equivalent to handing me a band aid after slapping me in the face. I will say the flight itself was smooth and the onboard staff was kind and attentive. The most frustrating thing is that the customer service is trained to give you the runaround so heavily to the point of exhaustion that you just give up trying and take the loss.</div>\n"
     ]
    }
   ],
   "source": [
    "url= 'https://www.airlinequality.com/airline-reviews/british-airways'\n",
    "page=350\n",
    "review=[]\n",
    "for i in range(1,page+1):\n",
    "    getResponseURL= f\"{url}/page/{i}\"\n",
    "    responseContent=requests.get(getResponseURL)\n",
    "    \n",
    "    content=responseContent.content\n",
    "    parseContent=BeautifulSoup(content,'html.parser')\n",
    "    for reviews in parseContent.find_all(\"div\",class_=\"text_content\"):\n",
    "        print(reviews.get_text())\n",
    "    break"
   ]
  },
  {
   "cell_type": "code",
   "execution_count": null,
   "id": "5c0cce5e",
   "metadata": {
    "collapsed": true
   },
   "outputs": [],
   "source": []
  }
 ],
 "metadata": {
  "kernelspec": {
   "display_name": "Python 3 (ipykernel)",
   "language": "python",
   "name": "python3"
  },
  "language_info": {
   "codemirror_mode": {
    "name": "ipython",
    "version": 3
   },
   "file_extension": ".py",
   "mimetype": "text/x-python",
   "name": "python",
   "nbconvert_exporter": "python",
   "pygments_lexer": "ipython3",
   "version": "3.9.6"
  }
 },
 "nbformat": 4,
 "nbformat_minor": 5
}
